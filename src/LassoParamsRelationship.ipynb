{
 "cells": [
  {
   "cell_type": "code",
   "execution_count": 2,
   "metadata": {},
   "outputs": [],
   "source": [
    "import numpy as np\n",
    "import pandas as pd\n",
    "import matplotlib.pyplot as plt\n",
    "from pylab import *\n",
    "import matplotlib.cm as cm\n",
    "import warnings\n",
    "warnings.filterwarnings(action = 'ignore')\n",
    "%matplotlib inline\n",
    "plt.rcParams['font.sans-serif']=['SimHei']\n",
    "plt.rcParams['axes.unicode_minus']=False\n",
    "from sklearn import svm\n",
    "import sklearn.linear_model as LM\n",
    "import scipy.stats as st\n",
    "from scipy.optimize import root,fsolve\n",
    "from sklearn.feature_selection import  VarianceThreshold,SelectKBest,f_classif,chi2\n",
    "from sklearn.feature_selection import RFE,RFECV,SelectFromModel\n",
    "from sklearn.linear_model import Lasso,LassoCV,lasso_path,Ridge,RidgeCV\n",
    "from sklearn.linear_model import enet_path,ElasticNetCV,ElasticNet"
   ]
  },
  {
   "cell_type": "code",
   "execution_count": 7,
   "metadata": {},
   "outputs": [
    {
     "name": "stdout",
     "output_type": "stream",
     "text": [
      "------------------Relationship between alpha and regression coefficients------------------\n",
      "OD: [0.98391127 0.96879633 0.95350411 0.93830746 0.921854   0.90540052\n",
      " 0.88899473 0.87260399 0.85621351 0.8396807  0.82309598 0.8065114\n",
      " 0.7899275  0.7734043  0.75695198 0.74050078 0.72396236 0.70737577\n",
      " 0.69078867 0.62778934]\n",
      "Age: [ 6.1530165   6.09572102  5.92281736  5.88616767  6.65658017  7.42699779\n",
      "  8.20517459  8.98566623  9.76608134 10.58921034 11.4255848  12.26244103\n",
      " 13.09921638 13.91763742 14.71607021 15.51416038 16.25160327 16.95542913\n",
      " 17.65937749 20.21444419]\n",
      "HT: [0.96621654 0.92822765 0.88969337 0.85104642 0.81367454 0.7763027\n",
      " 0.73876502 0.70117475 0.66358384 0.62648908 0.58956449 0.55264232\n",
      " 0.51572092 0.47858898 0.44121111 0.40383039 0.36573354 0.32724031\n",
      " 0.28874801 0.14240473]\n",
      "CRP: [1.4180211  1.48945798 1.51092462 1.50889075 1.51068791 1.51248561\n",
      " 1.51603459 1.52014309 1.52424367 1.53360787 1.54502302 1.55643407\n",
      " 1.56784747 1.57698048 1.58340398 1.58979201 1.60246402 1.61858076\n",
      " 1.63471213 1.69611089]\n",
      "CCH: [ 0.85135156  0.20650394  0.         -0.         -0.         -0.\n",
      " -0.         -0.         -0.         -0.         -0.         -0.\n",
      " -0.         -0.         -0.         -0.         -0.         -0.\n",
      " -0.         -0.        ]\n",
      "CS: [0.97005649 0.50653663 0.29026747 0.21196669 0.11740276 0.02283832\n",
      " 0.         0.         0.         0.         0.         0.\n",
      " 0.         0.         0.         0.         0.         0.\n",
      " 0.         0.        ]\n",
      "------------------------Relationship between alpha and training error---------------------\n",
      "[0.3259051533480042, 0.33899942108146475, 0.3413496199943402, 0.3440188558092616, 0.347333688160155, 0.35022798164445557, 0.35376544890217454, 0.3579270534999417, 0.3627225174565428, 0.3681574050219425, 0.37418920878979933, 0.380839685956486, 0.38812338433352966, 0.39604031640122483, 0.4046082791828659, 0.41383293619439065, 0.42369392670611694, 0.4340163839626636, 0.4448655824494643, 0.456334628873338, 0.5056288174760917, 0.5624960112404863]\n"
     ]
    }
   ],
   "source": [
    "# Fetch Dataset\n",
    "data=pd.read_excel('dataset5.xlsx')\n",
    "X=data.iloc[:,1:86]\n",
    "Y=data.iloc[:,86]\n",
    "\n",
    "alphas=list(np.linspace(0,0.05,20))\n",
    "alphas.extend([0.06,0.07])\n",
    "coef=np.zeros((len(alphas),X.shape[1]))\n",
    "err=[]\n",
    "for i,alpha in enumerate(alphas):\n",
    "    modelLasso = Lasso(alpha=alpha)\n",
    "    modelLasso.fit(X,Y)\n",
    "    if i==0:\n",
    "        coef[i]=modelLasso.coef_\n",
    "    else:\n",
    "        coef[i]=(modelLasso.coef_/coef[0])\n",
    "    err.append(1-modelLasso.score(X,Y))    \n",
    "    \n",
    "# Extract coefficients for specific features\n",
    "variables_of_interest = ['OD', 'Age', 'HT', 'CRP', 'CCH', 'CS']\n",
    "coef_of_interest = {var: coef[:, X.columns.get_loc(var)] for var in variables_of_interest}\n",
    "\n",
    "print(\"------------------Relationship between alpha and regression coefficients------------------\")\n",
    "print(\"OD:\", coef_of_interest['OD'][1:-1])\n",
    "print(\"Age:\", coef_of_interest['Age'][1:-1])\n",
    "print(\"HT:\", coef_of_interest['HT'][1:-1])\n",
    "print(\"CRP:\", coef_of_interest['CRP'][1:-1])\n",
    "print(\"CCH:\", coef_of_interest['CCH'][1:-1])\n",
    "print(\"CS:\", coef_of_interest['CS'][1:-1])\n",
    "\n",
    "print(\"------------------------Relationship between alpha and training error---------------------\")\n",
    "print(err)\n"
   ]
  },
  {
   "cell_type": "code",
   "execution_count": null,
   "metadata": {},
   "outputs": [],
   "source": []
  }
 ],
 "metadata": {
  "kernelspec": {
   "display_name": "Python 3 (ipykernel)",
   "language": "python",
   "name": "python3"
  },
  "language_info": {
   "codemirror_mode": {
    "name": "ipython",
    "version": 3
   },
   "file_extension": ".py",
   "mimetype": "text/x-python",
   "name": "python",
   "nbconvert_exporter": "python",
   "pygments_lexer": "ipython3",
   "version": "3.11.4"
  }
 },
 "nbformat": 4,
 "nbformat_minor": 2
}
